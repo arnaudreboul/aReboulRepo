{
 "cells": [
  {
   "cell_type": "markdown",
   "metadata": {},
   "source": [
    "\n",
    "\n",
    "<font color=\"blue\" > Equation du second degré de la forma ax²+bx+c</font><br>\n",
    "<br>\n",
    "<br>\n",
    "Le discriminant $\\Delta$ est tel que : $\\Delta$=$b^2-4ac$<br>\n",
    "<table align=\"center\" bordercolor=\"green\"  border=\"3\" width=\"40%\">\n",
    "    <tr>\n",
    "        <td align=\"center\" width=\"20%\">$\\Delta$ est positif</td>\n",
    "        <td align=\"center\" width=\"80%\">Les racines sont $x_1$ et $x_2$ telles que :<br>\n",
    "            <br>\n",
    "            $x_1 = \\frac{-b- \\sqrt{\\Delta}}{2a}$  et   $x_2 = \\frac{-b+ \\sqrt{\\Delta}}{2a}$ </td>\n",
    "    <tr>\n",
    "        <td align=\"center\" width=\"20%\">$\\Delta$ est nul</td>\n",
    "        <td align=\"center\" width=\"80%\">Il y a une racine double $x_1$ tel que :<br>\n",
    "            <br>\n",
    "            $x_1 = \\frac{-b}{2a}$  </td> \n",
    "   <tr>\n",
    "        <td align=\"center\" width=\"20%\">$\\Delta$ est strictement négatif</td>\n",
    "        <td align=\"center\" width=\"80%\">Il y n'y a pas de racine réelle:</td> \n",
    "\n",
    "</table>\n",
    "\n"
   ]
  },
  {
   "cell_type": "code",
   "execution_count": null,
   "metadata": {},
   "outputs": [],
   "source": []
  },
  {
   "cell_type": "code",
   "execution_count": null,
   "metadata": {},
   "outputs": [],
   "source": []
  },
  {
   "cell_type": "code",
   "execution_count": null,
   "metadata": {},
   "outputs": [],
   "source": []
  }
 ],
 "metadata": {
  "kernelspec": {
   "display_name": "Python 3",
   "language": "python",
   "name": "python3"
  },
  "language_info": {
   "codemirror_mode": {
    "name": "ipython",
    "version": 3
   },
   "file_extension": ".py",
   "mimetype": "text/x-python",
   "name": "python",
   "nbconvert_exporter": "python",
   "pygments_lexer": "ipython3",
   "version": "3.7.3"
  }
 },
 "nbformat": 4,
 "nbformat_minor": 2
}
